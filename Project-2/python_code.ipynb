{
 "cells": [
  {
   "cell_type": "markdown",
   "id": "bb09a8c0",
   "metadata": {},
   "source": [
    "# Don't Run All! - run only needed section at a time"
   ]
  },
  {
   "cell_type": "code",
   "execution_count": null,
   "id": "25ae5c63",
   "metadata": {},
   "outputs": [],
   "source": [
    "# Libraries\n",
    "import numpy as np\n",
    "import pandas as pd\n",
    "import serial\n",
    "import matplotlib.pyplot as plt\n",
    "from sklearn import metrics\n",
    "import seaborn as sns\n",
    "import torch\n",
    "import torch.nn as nn\n",
    "import torch.optim as optim\n",
    "import torch.nn.functional as F\n",
    "from torch.utils.data import Dataset, DataLoader\n",
    "\n",
    "device = 'cuda' if torch.cuda.is_available() else 'cpu'\n",
    "\n",
    "# Set seed for reproducibility\n",
    "def seed_all(seed=0):\n",
    "    np.random.seed(seed)\n",
    "    torch.manual_seed(seed)\n",
    "    torch.cuda.manual_seed_all(seed)"
   ]
  },
  {
   "cell_type": "code",
   "execution_count": 344,
   "id": "8a4d378c",
   "metadata": {},
   "outputs": [],
   "source": [
    "# Format: Object-Distance-Height\n",
    "class_names = [\"Coin-10cm-10cm\", \"Coin-10cm-30cm\", \"Coin-30cm-10cm\", \"Coin-30cm-30cm\",\n",
    "               \"Eraser-10cm-10cm\", \"Eraser-10cm-30cm\", \"Eraser-30cm-10cm\", \"Eraser-30cm-30cm\"]"
   ]
  },
  {
   "cell_type": "code",
   "execution_count": 115,
   "id": "31b4f72c",
   "metadata": {},
   "outputs": [],
   "source": [
    "adc_threshold = 1000  # ADC threshold to start data collection\n",
    "num_items_to_collect = 200  # Number of ADC values to collect\n",
    "class_label = class_names.index(\"Coin-10cm-10cm\")  # Class label for the current data collection\n",
    "filepath = \"data/data_train.csv\"  # Name of the CSV file to save the data"
   ]
  },
  {
   "cell_type": "markdown",
   "id": "c880432a",
   "metadata": {},
   "source": [
    "# Data Collection"
   ]
  },
  {
   "cell_type": "markdown",
   "id": "9413a427",
   "metadata": {},
   "source": [
    "## Modify ```# Parameters```"
   ]
  },
  {
   "cell_type": "code",
   "execution_count": null,
   "id": "176329e8",
   "metadata": {},
   "outputs": [],
   "source": [
    "# Parameters\n",
    "adc_threshold = 1000  # ADC threshold to start data collection\n",
    "num_items_to_collect = 1000  # Number of ADC values to collect\n",
    "class_label = class_names.index(\"Coin-10cm-10cm\")  # Class label for the current data collection\n",
    "filepath = \"data.csv\"  # Name of the CSV file to save the data\n",
    "\n",
    "# Initialize serial communication\n",
    "ser = serial.Serial(port=\"COM8\", baudrate=230400, timeout=1)  # Configure the serial port\n",
    "ser.flush()  # Flush the serial buffer to clear any existing data\n",
    "\n",
    "\n",
    "# Function to read ADC value from the serial port\n",
    "def read_adc_value():\n",
    "    \"\"\"\n",
    "    Reads a single ADC value from the serial port.\n",
    "    Returns:\n",
    "        int: The ADC value if successfully read, otherwise None.\n",
    "    \"\"\"\n",
    "    try:\n",
    "        if ser.in_waiting > 0:  # Check if data is available in the serial buffer\n",
    "            line = ser.readline().decode('utf-8').strip()  # Read and decode the line\n",
    "            return int(line)  # Convert the line to an integer\n",
    "    except ValueError:\n",
    "        # Ignore invalid data that cannot be converted to an integer\n",
    "        pass\n",
    "    return None\n",
    "\n",
    "\n",
    "# Function to save collected data to a CSV file\n",
    "def save_to_csv(data, label, filepath):\n",
    "    \"\"\"\n",
    "    Saves the collected data to a CSV file.\n",
    "    Args:\n",
    "        data (list): The list of collected ADC values.\n",
    "        label (int): The class label for the data.\n",
    "        filepath (str): The name of the CSV file to save the data.\n",
    "    \"\"\"\n",
    "    # Add the new row to the dataframe\n",
    "    df.loc[len(df)] = [label] + data\n",
    "    # Save the dataframe to a CSV file\n",
    "    df.to_csv(filepath, index=False)\n",
    "\n",
    "\n",
    "# Read existing CSV file if it exists, otherwise create a new dataframe\n",
    "try:\n",
    "    df = pd.read_csv(filepath)  # Try to read the existing CSV file\n",
    "except FileNotFoundError:\n",
    "    # Create a new dataframe with appropriate columns if the file doesn't exist\n",
    "    df = pd.DataFrame(columns=[\"label\"] + [\"data\" + str(i + 1) for i in range(num_items_to_collect)])\n",
    "\n",
    "# Data collection process\n",
    "data = []  # List to store collected ADC values\n",
    "\n",
    "try:\n",
    "    print(\"Data collection started...\")\n",
    "    activated = False  # Flag to indicate if the threshold has been crossed\n",
    "\n",
    "    # Collect data until the required number of items is reached\n",
    "    while len(data) < num_items_to_collect:\n",
    "        adc_value = read_adc_value()  # Read an ADC value\n",
    "        if adc_value is not None:\n",
    "            if not activated and adc_value > adc_threshold:\n",
    "                # Start collecting data only after the threshold is crossed\n",
    "                activated = True\n",
    "                print(\"Threshold crossed. Collecting data...\")\n",
    "            if activated:\n",
    "                # Append the ADC value to the data list\n",
    "                data.append(adc_value)\n",
    "\n",
    "    print(\"Data collection completed.\")\n",
    "except KeyboardInterrupt:\n",
    "    # Handle manual interruption (Ctrl+C)\n",
    "    print(\"Data collection interrupted.\")\n",
    "except Exception as e:\n",
    "    # Handle any other exceptions\n",
    "    print(f\"An error occurred: {e}\")\n",
    "\n",
    "# Save the collected data to a CSV file\n",
    "if data:\n",
    "    save_to_csv(data, class_label, filepath)  # Save the data with the class label\n",
    "    print(\"Data saved to CSV.\")\n",
    "else:\n",
    "    print(\"No data collected.\")\n",
    "\n",
    "# Close the serial port\n",
    "ser.close()"
   ]
  },
  {
   "cell_type": "code",
   "execution_count": null,
   "id": "72664ffa",
   "metadata": {},
   "outputs": [],
   "source": [
    "# Test\n",
    "n = 10\n",
    "df = pd.read_csv(\"data.csv\")\n",
    "data = df.iloc[n - 1, 1:].values  # Extract the latest data values (excluding the label column)\n",
    "class_label = df.iloc[n - 1, 0]  # Extract the latest label (first column)"
   ]
  },
  {
   "cell_type": "markdown",
   "id": "d95a21e5",
   "metadata": {},
   "source": [
    "## Plot the latest data"
   ]
  },
  {
   "cell_type": "code",
   "execution_count": null,
   "id": "e9a5b07d",
   "metadata": {},
   "outputs": [],
   "source": [
    "plt.plot(range(len(data)), data)  # Plot the ADC values\n",
    "plt.xlabel(\"Sample Number\")  # Label for the x-axis\n",
    "plt.ylabel(\"ADC Value\")  # Label for the y-axis\n",
    "plt.title(f\"ADC Values Over Time - {class_names[class_label]}\")  # Title of the plot\n",
    "plt.grid()  # Show grid lines on the plot\n",
    "plt.show()  # Display the plot"
   ]
  },
  {
   "cell_type": "markdown",
   "id": "7b8865f5",
   "metadata": {},
   "source": [
    "# Fourier Transform\n",
    "[Credit](https://www.youtube.com/watch?v=s2K1JfNR7Sc)"
   ]
  },
  {
   "cell_type": "markdown",
   "id": "f4084edc",
   "metadata": {},
   "source": [
    "## For the latest data"
   ]
  },
  {
   "cell_type": "markdown",
   "id": "f6e1ef41",
   "metadata": {},
   "source": [
    "### Compute the Fast Fourier Transform (FFT) and plot the Power Spectral Density (PSD)"
   ]
  },
  {
   "cell_type": "code",
   "execution_count": null,
   "id": "de1dde85",
   "metadata": {},
   "outputs": [],
   "source": [
    "fs = 5530  # Sampling frequency in Hz\n",
    "\n",
    "n = len(data)  # Number of samples\n",
    "\n",
    "# Compute the FFT and Power Spectral Density (PSD)\n",
    "fhat = np.fft.fft(data, n)\n",
    "PSD = fhat * np.conj(fhat) / n\n",
    "freq = (1 / (n * (1 / fs))) * np.arange(n)  # Frequency bins\n",
    "L = np.arange(1, np.floor(n / 2), dtype='int')  # Positive frequencies\n",
    "\n",
    "# Plot the Power Spectral Density\n",
    "plt.plot(freq[L], PSD[L].real, linewidth=2)\n",
    "plt.xlabel('Power spectrum frequency (Hz)')\n",
    "plt.ylabel('Power (dB)')\n",
    "plt.title('Power Spectral Density')\n",
    "plt.grid()\n",
    "plt.show()"
   ]
  },
  {
   "cell_type": "markdown",
   "id": "88f39138",
   "metadata": {},
   "source": [
    "### Use the PSD to filter out noise"
   ]
  },
  {
   "cell_type": "code",
   "execution_count": null,
   "id": "bd7130e1",
   "metadata": {},
   "outputs": [],
   "source": [
    "# Threshold the PSD to isolate significant frequencies\n",
    "indices = PSD > 0.1 * np.max(PSD)  # Thresholding condition\n",
    "fhat = fhat * indices     # Clean Fourier coefficients\n",
    "\n",
    "# Inverse FFT to reconstruct the filtered signal\n",
    "ffilt = np.fft.ifft(fhat).real  # Ensure real output\n",
    "\n",
    "# Apply DC offset so the minimum value is 0\n",
    "ffilt = ffilt + abs(min(0, np.min(ffilt)))\n",
    "\n",
    "# Plot the filtered time-domain signal\n",
    "plt.plot(range(len(data)), ffilt, linewidth=2)\n",
    "plt.xlabel('Sample Number')\n",
    "plt.ylabel('ADC Value')\n",
    "plt.title(f\"Filtered ADC Values Over Time - {class_names[class_label]}\")\n",
    "plt.grid()\n",
    "plt.show()"
   ]
  },
  {
   "cell_type": "markdown",
   "id": "597820c6",
   "metadata": {},
   "source": [
    "## Fourier transform entire dataset for model training"
   ]
  },
  {
   "cell_type": "code",
   "execution_count": 116,
   "id": "2b10c3f2",
   "metadata": {},
   "outputs": [],
   "source": [
    "def compute_psd(data):\n",
    "    \"\"\"\n",
    "    Computes the Power Spectral Density (PSD) of the input signal.\n",
    "    Args:\n",
    "        data (array-like): Input time-domain signal.\n",
    "    Returns:\n",
    "        array: PSD of the input signal.\n",
    "    \"\"\"\n",
    "    data = data - np.mean(data)  # Remove DC offset\n",
    "    n = len(data)\n",
    "    fhat = np.fft.fft(data, n)\n",
    "    PSD = (fhat * np.conj(fhat)) / n\n",
    "    return PSD[:n // 2].real  # Return only the positive frequencies\n",
    "\n",
    "df = pd.read_csv(filepath)  # Read the existing CSV file\n",
    "\n",
    "# Create a new DataFrame to store PSD-transformed data\n",
    "psd_length = len(df.columns) - 1  # Same number of samples per row (excluding label)\n",
    "df_psd = pd.DataFrame(columns=[\"label\"] + [f\"psd{i+1}\" for i in range(psd_length // 2)])\n",
    "\n",
    "for i in range(len(df)):\n",
    "    label = int(df.iloc[i, 0])  # Extract and ensure label is int\n",
    "    data = df.iloc[i, 1:].values.astype(float)  # Extract signal values\n",
    "    psd = compute_psd(data)  # Compute PSD\n",
    "    df_psd.loc[i] = [label] + list(psd)  # Assign to new DataFrame\n",
    "\n",
    "# Convert the label column to integers\n",
    "df_psd[\"label\"] = df_psd[\"label\"].astype(int)\n",
    "\n",
    "# Save the PSD-transformed data to a new CSV file\n",
    "filepath_psd = filepath.replace(\"data_\", \"data_psd_\")\n",
    "df_psd.to_csv(filepath_psd, index=False)\n"
   ]
  },
  {
   "cell_type": "code",
   "execution_count": null,
   "id": "624ad0f3",
   "metadata": {},
   "outputs": [],
   "source": [
    "# Plot a few samples before and after PSD\n",
    "num_examples_to_plot = len(df_psd)  # Number of examples you want to visualize\n",
    "\n",
    "for i in range(num_examples_to_plot):\n",
    "    label = int(df.iloc[i, 0])\n",
    "    time_data = df.iloc[i, 1:].values.astype(float)\n",
    "    psd_data = compute_psd(time_data)\n",
    "\n",
    "    fig, axs = plt.subplots(1, 2, figsize=(12, 4))\n",
    "\n",
    "    # Time-domain plot\n",
    "    axs[0].plot(time_data, linewidth=1.5)\n",
    "    axs[0].set_title(f\"Time-Domain Signal (Label: {label})\")\n",
    "    axs[0].set_xlabel(\"Sample Number\")\n",
    "    axs[0].set_ylabel(\"Amplitude\")\n",
    "    axs[0].grid(True)\n",
    "\n",
    "    # PSD plot\n",
    "    axs[1].plot(psd_data, linewidth=1.5)\n",
    "    axs[1].set_title(f\"Power Spectral Density (Label: {label})\")\n",
    "    axs[1].set_xlabel(\"Frequency Bin\")\n",
    "    axs[1].set_ylabel(\"Power\")\n",
    "    axs[1].grid(True)\n",
    "\n",
    "    plt.tight_layout()\n",
    "    plt.show()\n"
   ]
  },
  {
   "cell_type": "markdown",
   "id": "d30e9ceb",
   "metadata": {},
   "source": [
    "# Train Classification Model"
   ]
  },
  {
   "cell_type": "markdown",
   "id": "9b60a266",
   "metadata": {},
   "source": [
    "## Dataset class"
   ]
  },
  {
   "cell_type": "code",
   "execution_count": 336,
   "id": "88a0a73e",
   "metadata": {},
   "outputs": [],
   "source": [
    "class PiezoDataset(Dataset):\n",
    "    def __init__(self, dataframe):\n",
    "        self.X = dataframe.drop(columns=['label']).values\n",
    "        self.y = dataframe['label'].values\n",
    "    \n",
    "    def __len__(self):\n",
    "        return len(self.X)\n",
    "    \n",
    "    def __getitem__(self, idx):\n",
    "        x = torch.tensor(self.X[idx], dtype=torch.float32)\n",
    "        y = torch.tensor(self.y[idx], dtype=torch.long)\n",
    "        return x, y"
   ]
  },
  {
   "cell_type": "markdown",
   "id": "c0a999b9",
   "metadata": {},
   "source": [
    "## Create Dataset instance from the defined Class and then the DataLoaders"
   ]
  },
  {
   "cell_type": "code",
   "execution_count": 337,
   "id": "abbce88c",
   "metadata": {},
   "outputs": [
    {
     "name": "stdout",
     "output_type": "stream",
     "text": [
      "Train dataset shape: (135, 100)\n",
      "Validation dataset shape: (45, 100)\n",
      "Test dataset shape: (45, 100)\n"
     ]
    }
   ],
   "source": [
    "# Load CSVs\n",
    "df_train = pd.read_csv(\"data/data_psd_train.csv\")\n",
    "df_val = pd.read_csv(\"data/data_psd_val.csv\")\n",
    "df_test = pd.read_csv(\"data/data_psd_test.csv\")\n",
    "\n",
    "# Create datasets\n",
    "train_dataset = PiezoDataset(df_train)\n",
    "val_dataset = PiezoDataset(df_val)\n",
    "test_dataset = PiezoDataset(df_test)\n",
    "\n",
    "# Create DataLoaders\n",
    "train_loader = DataLoader(train_dataset, batch_size=32, shuffle=True)\n",
    "val_loader = DataLoader(val_dataset, batch_size=5, shuffle=False)\n",
    "test_loader = DataLoader(test_dataset, batch_size=5, shuffle=False)\n",
    "\n",
    "# Print dataset shapes\n",
    "print(f\"Train dataset shape: {train_dataset.X.shape}\")\n",
    "print(f\"Validation dataset shape: {val_dataset.X.shape}\")\n",
    "print(f\"Test dataset shape: {test_dataset.X.shape}\")"
   ]
  },
  {
   "cell_type": "markdown",
   "id": "a6d4c1df",
   "metadata": {},
   "source": [
    "## Design the NN"
   ]
  },
  {
   "cell_type": "code",
   "execution_count": null,
   "id": "d5bfadd4",
   "metadata": {},
   "outputs": [],
   "source": [
    "class PiezoNN(nn.Module):\n",
    "    def __init__(self, input_size, num_classes, device='cpu'):\n",
    "        super(PiezoNN, self).__init__()\n",
    "        self.device = device\n",
    "        self.fc1 = nn.Linear(input_size, 512)  # Increase units in the first layer\n",
    "        self.fc2 = nn.Linear(512, 256)         # Increase units in the second layer\n",
    "        self.fc3 = nn.Linear(256, num_classes) # Output layer\n",
    "        self.bn1 = nn.BatchNorm1d(512)         # Batch normalization after first layer\n",
    "        self.bn2 = nn.BatchNorm1d(256)         # Batch normalization after second layer\n",
    "        self.dropout = nn.Dropout()         # Dropout to prevent overfitting\n",
    "\n",
    "    def forward(self, x):\n",
    "        x = F.relu(self.fc1(x))  # ReLU activation after the first layer\n",
    "        x = self.bn1(x)          # Batch Normalization\n",
    "        x = self.dropout(x)      # Apply dropout for regularization\n",
    "        x = F.relu(self.fc2(x))  # ReLU activation after the second layer\n",
    "        x = self.bn2(x)          # Batch Normalization\n",
    "        x = self.dropout(x)      # Apply dropout for regularization\n",
    "        x = self.fc3(x)          # Output layer\n",
    "        return x\n",
    "\n",
    "    def train_model(self, epochs, optimizer, scheduler, train_loader, val_loader, verbose=True):\n",
    "        self.loss_train_log = []\n",
    "        self.loss_val_log = []\n",
    "        self.best_loss = np.inf\n",
    "\n",
    "        # Move model to device\n",
    "        self.to(device=self.device)\n",
    "\n",
    "        for epoch in range(epochs):\n",
    "            self.train()\n",
    "            for x, y in train_loader:\n",
    "                x = x.to(device=self.device)\n",
    "                y = y.to(device=self.device)\n",
    "\n",
    "                optimizer.zero_grad()\n",
    "                yhat = self.forward(x)\n",
    "                loss = F.cross_entropy(yhat, y)\n",
    "                loss.backward()\n",
    "                optimizer.step()\n",
    "\n",
    "            # Step the scheduler\n",
    "            scheduler.step()\n",
    "\n",
    "            # Calculate loss for training and validation sets\n",
    "            loss_train = self.evaluate(train_loader)\n",
    "            self.loss_train_log.append(loss_train)\n",
    "\n",
    "            loss_val = self.evaluate(val_loader)\n",
    "            self.loss_val_log.append(loss_val)\n",
    "\n",
    "            if verbose:\n",
    "                print(f'Epoch {epoch+1}/{epochs}: Train Loss = {loss_train:.4f}, Val Loss = {loss_val:.4f}')\n",
    "\n",
    "            if loss_val < self.best_loss:\n",
    "                self.best_loss = loss_val\n",
    "                best_epoch = epoch + 1\n",
    "                torch.save(self.state_dict(), \"best_model.pth\")\n",
    "                \n",
    "        print(f'Best model saved at epoch {best_epoch} with loss {self.best_loss:.4f}.')\n",
    "\n",
    "    def evaluate(self, loader):\n",
    "        self.eval()\n",
    "        loss = 0\n",
    "        with torch.no_grad():\n",
    "            for x, y in loader:\n",
    "                x = x.to(device=self.device)\n",
    "                y = y.to(device=self.device)\n",
    "                yhat = self.forward(x)\n",
    "                loss += F.cross_entropy(yhat, y, reduction='sum')\n",
    "        \n",
    "        loss /= len(loader.dataset)\n",
    "        return loss.cpu()\n",
    "\n",
    "    def predict(self, loader):\n",
    "        self.eval()\n",
    "        x_all, y_all, logit = [], [], []\n",
    "        with torch.no_grad():\n",
    "            for x, y in loader:\n",
    "                x_all += [x]\n",
    "                y_all += [y]\n",
    "                x = x.to(device=self.device)  # Move data to the same device as model\n",
    "                y = y.to(device=self.device)  # Move labels to the same device as model\n",
    "                yhat = self.forward(x)\n",
    "                logit.append(yhat.cpu())  # Move logits back to CPU for easier manipulation\n",
    "                \n",
    "            x_all, y_all, logit = torch.cat(x_all, dim=0), torch.cat(y_all, dim=0), torch.cat(logit, dim=0)\n",
    "            return x_all, y_all, logit"
   ]
  },
  {
   "cell_type": "markdown",
   "id": "0b78a824",
   "metadata": {},
   "source": [
    "## Train the network"
   ]
  },
  {
   "cell_type": "code",
   "execution_count": null,
   "id": "f7b22c98",
   "metadata": {},
   "outputs": [
    {
     "name": "stdout",
     "output_type": "stream",
     "text": [
      "Testing with lr=0.001, weight_decay=0.01, step_size=3, gamma=0.7\n",
      "Epoch 1/100: Train Loss = 0.8342, Val Loss = 1.1059\n",
      "Epoch 2/100: Train Loss = 0.3676, Val Loss = 0.7667\n",
      "Epoch 3/100: Train Loss = 0.1861, Val Loss = 0.5731\n",
      "Epoch 4/100: Train Loss = 0.1130, Val Loss = 0.5547\n",
      "Epoch 5/100: Train Loss = 0.0792, Val Loss = 0.5074\n",
      "Epoch 6/100: Train Loss = 0.0623, Val Loss = 0.4685\n",
      "Epoch 7/100: Train Loss = 0.0524, Val Loss = 0.4715\n",
      "Epoch 8/100: Train Loss = 0.0431, Val Loss = 0.4601\n",
      "Epoch 9/100: Train Loss = 0.0383, Val Loss = 0.5157\n",
      "Epoch 10/100: Train Loss = 0.0361, Val Loss = 0.5450\n",
      "Epoch 11/100: Train Loss = 0.0356, Val Loss = 0.5681\n",
      "Epoch 12/100: Train Loss = 0.0344, Val Loss = 0.5890\n",
      "Epoch 13/100: Train Loss = 0.0327, Val Loss = 0.5951\n",
      "Epoch 14/100: Train Loss = 0.0342, Val Loss = 0.6409\n",
      "Epoch 15/100: Train Loss = 0.0327, Val Loss = 0.7020\n",
      "Epoch 16/100: Train Loss = 0.0308, Val Loss = 0.7526\n",
      "Epoch 17/100: Train Loss = 0.0286, Val Loss = 0.7608\n",
      "Epoch 18/100: Train Loss = 0.0284, Val Loss = 0.7457\n",
      "Epoch 19/100: Train Loss = 0.0275, Val Loss = 1.0465\n",
      "Epoch 20/100: Train Loss = 0.0267, Val Loss = 1.0783\n",
      "Epoch 21/100: Train Loss = 0.0264, Val Loss = 1.5031\n",
      "Epoch 22/100: Train Loss = 0.0274, Val Loss = 1.9435\n",
      "Epoch 23/100: Train Loss = 0.0262, Val Loss = 2.1880\n",
      "Epoch 24/100: Train Loss = 0.0253, Val Loss = 2.3369\n",
      "Epoch 25/100: Train Loss = 0.0204, Val Loss = 3.0521\n",
      "Epoch 26/100: Train Loss = 0.0214, Val Loss = 4.1404\n",
      "Epoch 27/100: Train Loss = 0.0204, Val Loss = 7.2245\n",
      "Epoch 28/100: Train Loss = 0.0218, Val Loss = 8.5921\n",
      "Epoch 29/100: Train Loss = 0.0205, Val Loss = 11.4469\n",
      "Epoch 30/100: Train Loss = 0.0214, Val Loss = 14.2246\n",
      "Epoch 31/100: Train Loss = 0.0216, Val Loss = 20.5092\n",
      "Epoch 32/100: Train Loss = 0.0200, Val Loss = 29.3425\n",
      "Epoch 33/100: Train Loss = 0.0205, Val Loss = 37.7686\n",
      "Epoch 34/100: Train Loss = 0.0200, Val Loss = 51.7693\n",
      "Epoch 35/100: Train Loss = 0.0212, Val Loss = 66.8051\n",
      "Epoch 36/100: Train Loss = 0.0222, Val Loss = 83.8041\n",
      "Epoch 37/100: Train Loss = 0.0211, Val Loss = 89.1994\n",
      "Epoch 38/100: Train Loss = 0.0192, Val Loss = 121.5485\n",
      "Epoch 39/100: Train Loss = 0.0198, Val Loss = 146.7038\n",
      "Epoch 40/100: Train Loss = 0.0195, Val Loss = 211.4599\n",
      "Epoch 41/100: Train Loss = 0.0196, Val Loss = 221.1588\n",
      "Epoch 42/100: Train Loss = 0.0201, Val Loss = 333.7401\n",
      "Epoch 43/100: Train Loss = 0.0200, Val Loss = 396.2769\n",
      "Epoch 44/100: Train Loss = 0.0194, Val Loss = 453.6126\n",
      "Epoch 45/100: Train Loss = 0.0208, Val Loss = 659.4822\n",
      "Epoch 46/100: Train Loss = 0.0203, Val Loss = 931.5215\n",
      "Epoch 47/100: Train Loss = 0.0203, Val Loss = 1090.4988\n",
      "Epoch 48/100: Train Loss = 0.0198, Val Loss = 1723.6570\n",
      "Epoch 49/100: Train Loss = 0.0185, Val Loss = 1932.1328\n",
      "Epoch 50/100: Train Loss = 0.0194, Val Loss = 2835.0542\n",
      "Epoch 51/100: Train Loss = 0.0191, Val Loss = 3149.8584\n",
      "Epoch 52/100: Train Loss = 0.0195, Val Loss = 3076.5703\n",
      "Epoch 53/100: Train Loss = 0.0196, Val Loss = 3163.4199\n",
      "Epoch 54/100: Train Loss = 0.0202, Val Loss = 3051.9382\n",
      "Epoch 55/100: Train Loss = 0.0196, Val Loss = 4080.3323\n",
      "Epoch 56/100: Train Loss = 0.0208, Val Loss = 5008.4424\n",
      "Epoch 57/100: Train Loss = 0.0197, Val Loss = 5509.7300\n",
      "Epoch 58/100: Train Loss = 0.0198, Val Loss = 5180.6968\n",
      "Epoch 59/100: Train Loss = 0.0200, Val Loss = 5529.5063\n",
      "Epoch 60/100: Train Loss = 0.0187, Val Loss = 5321.3687\n",
      "Epoch 61/100: Train Loss = 0.0182, Val Loss = 5304.9287\n",
      "Epoch 62/100: Train Loss = 0.0183, Val Loss = 5835.9854\n",
      "Epoch 63/100: Train Loss = 0.0194, Val Loss = 5776.1118\n",
      "Epoch 64/100: Train Loss = 0.0181, Val Loss = 5409.3721\n",
      "Epoch 65/100: Train Loss = 0.0192, Val Loss = 4768.6250\n",
      "Epoch 66/100: Train Loss = 0.0197, Val Loss = 5213.9922\n",
      "Epoch 67/100: Train Loss = 0.0202, Val Loss = 5879.2300\n",
      "Epoch 68/100: Train Loss = 0.0194, Val Loss = 6409.8677\n",
      "Epoch 69/100: Train Loss = 0.0201, Val Loss = 6203.3643\n",
      "Epoch 70/100: Train Loss = 0.0184, Val Loss = 5977.8779\n",
      "Epoch 71/100: Train Loss = 0.0190, Val Loss = 5289.5186\n",
      "Epoch 72/100: Train Loss = 0.0183, Val Loss = 5858.9341\n",
      "Epoch 73/100: Train Loss = 0.0192, Val Loss = 7170.7812\n",
      "Epoch 74/100: Train Loss = 0.0193, Val Loss = 5322.3340\n",
      "Epoch 75/100: Train Loss = 0.0201, Val Loss = 5496.8003\n",
      "Epoch 76/100: Train Loss = 0.0201, Val Loss = 4512.5859\n",
      "Epoch 77/100: Train Loss = 0.0196, Val Loss = 5161.0386\n",
      "Epoch 78/100: Train Loss = 0.0192, Val Loss = 5648.8687\n",
      "Epoch 79/100: Train Loss = 0.0198, Val Loss = 5236.2183\n",
      "Epoch 80/100: Train Loss = 0.0197, Val Loss = 4848.5688\n",
      "Epoch 81/100: Train Loss = 0.0203, Val Loss = 5534.9219\n",
      "Epoch 82/100: Train Loss = 0.0214, Val Loss = 4744.9985\n",
      "Epoch 83/100: Train Loss = 0.0200, Val Loss = 5144.8975\n",
      "Epoch 84/100: Train Loss = 0.0190, Val Loss = 5575.6685\n",
      "Epoch 85/100: Train Loss = 0.0186, Val Loss = 5522.0474\n",
      "Epoch 86/100: Train Loss = 0.0200, Val Loss = 5407.7456\n",
      "Epoch 87/100: Train Loss = 0.0185, Val Loss = 5818.0791\n",
      "Epoch 88/100: Train Loss = 0.0191, Val Loss = 5442.0283\n",
      "Epoch 89/100: Train Loss = 0.0200, Val Loss = 5007.0029\n",
      "Epoch 90/100: Train Loss = 0.0198, Val Loss = 4508.9507\n",
      "Epoch 91/100: Train Loss = 0.0196, Val Loss = 5226.0698\n",
      "Epoch 92/100: Train Loss = 0.0198, Val Loss = 4407.7280\n",
      "Epoch 93/100: Train Loss = 0.0198, Val Loss = 5289.3711\n",
      "Epoch 94/100: Train Loss = 0.0200, Val Loss = 5702.6016\n",
      "Epoch 95/100: Train Loss = 0.0194, Val Loss = 4431.6484\n",
      "Epoch 96/100: Train Loss = 0.0196, Val Loss = 6294.2549\n",
      "Epoch 97/100: Train Loss = 0.0193, Val Loss = 4914.1855\n",
      "Epoch 98/100: Train Loss = 0.0198, Val Loss = 5126.4204\n",
      "Epoch 99/100: Train Loss = 0.0206, Val Loss = 5646.1201\n",
      "Epoch 100/100: Train Loss = 0.0200, Val Loss = 5057.8911\n",
      "Best model saved at epoch 8 with loss 0.4601.\n",
      "Best hyperparameters: {'lr': 0.001, 'weight_decay': 0.01, 'step_size': 3, 'gamma': 0.7}\n"
     ]
    }
   ],
   "source": [
    "# Model training\n",
    "input_size = len(train_dataset[0][0])  # Number of features in your dataset\n",
    "num_classes = len(np.unique(train_dataset.y))  # Number of unique labels\n",
    "model = PiezoNN(input_size=input_size, num_classes=num_classes, device=device)\n",
    "\n",
    "# Define possible hyperparameter values to test\n",
    "# lr_values = [0.001, 0.01, 0.1]\n",
    "# weight_decay_values = [0.0001, 0.001, 0.01]\n",
    "# step_size_values = [3, 5, 10]\n",
    "# gamma_values = [0.7, 0.8, 0.9]\n",
    "lr_values = [0.001]\n",
    "weight_decay_values = [0.01]\n",
    "step_size_values = [3]\n",
    "gamma_values = [0.7]\n",
    "\n",
    "# Initialize variables to store the best result\n",
    "best_val_loss = float('inf')\n",
    "best_hyperparameters = None\n",
    "best_model_state = None\n",
    "\n",
    "# Hyperparameter sweep\n",
    "for lr in lr_values:\n",
    "    for weight_decay in weight_decay_values:\n",
    "        for step_size in step_size_values:\n",
    "            for gamma in gamma_values:\n",
    "                print(f\"Testing with lr={lr}, weight_decay={weight_decay}, step_size={step_size}, gamma={gamma}\")\n",
    "\n",
    "                # Re-initialize the model to start fresh for each hyperparameter combination\n",
    "                model = PiezoNN(input_size=input_size, num_classes=num_classes, device=device)\n",
    "                \n",
    "                # Set up the optimizer and learning rate scheduler\n",
    "                optimizer = optim.AdamW(model.parameters(), lr=lr, weight_decay=weight_decay)\n",
    "                scheduler = torch.optim.lr_scheduler.StepLR(optimizer, step_size=step_size, gamma=gamma)\n",
    "                \n",
    "                # Train the model\n",
    "                model.train_model(epochs=100, optimizer=optimizer, scheduler=scheduler, train_loader=train_loader, val_loader=val_loader)\n",
    "                \n",
    "                # Evaluate on the validation set\n",
    "                val_loss = model.evaluate(val_loader)\n",
    "                \n",
    "                # Check if this is the best validation loss\n",
    "                if val_loss < best_val_loss:\n",
    "                    best_val_loss = val_loss\n",
    "                    best_hyperparameters = {'lr': lr, 'weight_decay': weight_decay, 'step_size': step_size, 'gamma': gamma}\n",
    "                    best_model_state = model.state_dict()  # Save the model state for best performance\n",
    "\n",
    "# Save the best model\n",
    "torch.save(best_model_state, 'best_model.pt')\n",
    "\n",
    "# Print the best hyperparameters\n",
    "print(f\"Best hyperparameters: {best_hyperparameters}\")"
   ]
  },
  {
   "cell_type": "markdown",
   "id": "e7b8723e",
   "metadata": {},
   "source": [
    "# Evaluate Classification Model"
   ]
  },
  {
   "cell_type": "markdown",
   "id": "1b4b712f",
   "metadata": {},
   "source": [
    "## Inspecting the loss"
   ]
  },
  {
   "cell_type": "code",
   "execution_count": 340,
   "id": "a5b7de34",
   "metadata": {},
   "outputs": [
    {
     "data": {
      "image/png": "[encoded data removed]",
      "text/plain": [
       "<Figure size 640x480 with 1 Axes>"
      ]
     },
     "metadata": {},
     "output_type": "display_data"
    }
   ],
   "source": [
    "# Plotting training vs val loss\n",
    "plt.plot(model.loss_train_log)\n",
    "plt.plot(model.loss_val_log)\n",
    "plt.legend(['Train Loss', 'Val Loss'])\n",
    "plt.xlabel('Epochs')\n",
    "plt.ylabel('Loss')# Assuming you have your data in a CSV file\n",
    "plt.title('Training vs Validation Loss')\n",
    "plt.show()"
   ]
  },
  {
   "cell_type": "markdown",
   "id": "62c3a551",
   "metadata": {},
   "source": [
    "## Test models performance on the test dataset"
   ]
  },
  {
   "cell_type": "code",
   "execution_count": 359,
   "id": "8e0598a5",
   "metadata": {},
   "outputs": [
    {
     "data": {
      "image/png": "[encoded data removed]",
      "text/plain": [
       "<Figure size 800x600 with 2 Axes>"
      ]
     },
     "metadata": {},
     "output_type": "display_data"
    }
   ],
   "source": [
    "# Load the best model\n",
    "best_params = torch.load('best_model.pt')\n",
    "model_best = PiezoNN(input_size=input_size, num_classes=num_classes, device=device)\n",
    "model_best.load_state_dict(best_params)\n",
    "model_best.to(device)\n",
    "\n",
    "# Evaluate of test data\n",
    "x_all, y_all, logit = model_best.predict(test_loader)\n",
    "predictions = F.softmax(logit, dim=1).argmax(dim=1)\n",
    "\n",
    "# Calculate confusion matrix and other metrics\n",
    "y_true = y_all.cpu().numpy()  # True labels\n",
    "y_pred = predictions.cpu().numpy()  # Predicted labels\n",
    "cMat = metrics.confusion_matrix(y_true, y_pred)\n",
    "\n",
    "accuracy = metrics.accuracy_score(y_true, y_pred)\n",
    "precision = metrics.precision_score(y_true, y_pred, average='macro')  # Macro for multi-class\n",
    "recall = metrics.recall_score(y_true, y_pred, average='macro')  # Macro for multi-class\n",
    "f1 = metrics.f1_score(y_true, y_pred, average='macro')  # Macro for multi-class\n",
    "\n",
    "# Plot using Seaborn with index labels\n",
    "plt.figure(figsize=(8, 6))\n",
    "sns.heatmap(cMat, annot=True, fmt='d', cmap='Blues')\n",
    "plt.xlabel('Predicted Labels')\n",
    "plt.ylabel('True Labels')\n",
    "plt.title('Confusion Matrix')\n",
    "plt.tight_layout()\n",
    "\n",
    "metrics_text = f\"\"\"\n",
    "Accuracy       = {accuracy:.2f}\n",
    "Precision      = {precision:.2f}\n",
    "Recall         = {recall:.2f}\n",
    "F1 Score       = {f1:.2f}\n",
    "\"\"\"\n",
    "\n",
    "# Create a text box\n",
    "plt.gcf().text(0.5, -0.11, metrics_text.strip(), ha='center', fontsize=11, family='monospace')\n",
    "\n",
    "plt.tight_layout()\n",
    "plt.show()"
   ]
  },
  {
   "cell_type": "markdown",
   "id": "3afa8053",
   "metadata": {},
   "source": [
    "# Demo Run"
   ]
  },
  {
   "cell_type": "code",
   "execution_count": null,
   "id": "dc605148",
   "metadata": {},
   "outputs": [],
   "source": []
  }
 ],
 "metadata": {
  "kernelspec": {
   "display_name": ".venv",
   "language": "python",
   "name": "python3"
  },
  "language_info": {
   "codemirror_mode": {
    "name": "ipython",
    "version": 3
   },
   "file_extension": ".py",
   "mimetype": "text/x-python",
   "name": "python",
   "nbconvert_exporter": "python",
   "pygments_lexer": "ipython3",
   "version": "3.12.2"
  }
 },
 "nbformat": 4,
 "nbformat_minor": 5
}
