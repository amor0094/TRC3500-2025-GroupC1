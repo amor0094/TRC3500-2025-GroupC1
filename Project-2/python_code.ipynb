{
 "cells": [
  {
   "cell_type": "code",
   "execution_count": null,
   "id": "25ae5c63",
   "metadata": {},
   "outputs": [],
   "source": [
    "import numpy as np\n",
    "import pandas as pd\n",
    "import serial"
   ]
  },
  {
   "cell_type": "code",
   "execution_count": null,
   "id": "8a4d378c",
   "metadata": {},
   "outputs": [],
   "source": [
    "# Format: Object-Distance-Height\n",
    "class_names = [\"Coin-10cm-10cm\", \"Coin-10cm-30cm\", \"Coin-30cm-10cm\", \"Coin-30cm-30cm\"\n",
    "               \"Eraser-10cm-10cm\", \"Eraser-10cm-30cm\", \"Eraser-30cm-10cm\", \"Eraser-30cm-30cm\"]"
   ]
  },
  {
   "cell_type": "markdown",
   "id": "c880432a",
   "metadata": {},
   "source": [
    "# Data Collection\n",
    "Modify # Parameters"
   ]
  },
  {
   "cell_type": "code",
   "execution_count": null,
   "id": "176329e8",
   "metadata": {},
   "outputs": [],
   "source": [
    "# Using serial to read data from a serial port - using correct port\n",
    "ser = serial.Serial(port=\"COM8\", baudrate=230400, timeout=1) \n",
    "ser.flush()  # Flush the serial buffer\n",
    "\n",
    "# Function to read ADC value from the serial port\n",
    "def read_adc_value():\n",
    "    try:\n",
    "        if ser.in_waiting > 0:\n",
    "            line = ser.readline().decode('utf-8').strip()\n",
    "            return int(line)\n",
    "    except ValueError:\n",
    "        pass\n",
    "    return None\n",
    "\n",
    "# Function to save data to a CSV file\n",
    "def save_to_csv(data, label, filename=\"data.csv\"):\n",
    "    df.loc[len(df)] = [label] + data\n",
    "    df.to_csv(filename, index=False)\n",
    "\n",
    "# Parameters\n",
    "adc_threshold = 1000\n",
    "num_items_to_collect = 100  # Number of items to collect\n",
    "class_label = class_names.index(\"Coin-10cm-10cm\")\n",
    "\n",
    "# Read csv if it exists, else create a new one\n",
    "try:\n",
    "    df = pd.read_csv(\"data.csv\")\n",
    "except FileNotFoundError:\n",
    "    df = pd.DataFrame(columns=[\"label\"] + [\"data\" + str(i + 1) for i in range(num_items_to_collect)])\n",
    "\n",
    "# Data collection\n",
    "data = []\n",
    "\n",
    "try:\n",
    "    print(\"Data collection started...\")\n",
    "    activated = False  # Flag to check if threshold was crossed\n",
    "    while len(data) < num_items_to_collect:\n",
    "        adc_value = read_adc_value()\n",
    "        if adc_value is not None:\n",
    "            if not activated and adc_value > adc_threshold:\n",
    "                activated = True  # Activate reading after threshold is crossed\n",
    "                print(\"Threshold crossed. Collecting data...\")\n",
    "            if activated:\n",
    "                # Collect data\n",
    "                data.append(adc_value)  # Store ADC values as rows\n",
    "    print(\"Data collection completed.\")\n",
    "except KeyboardInterrupt:\n",
    "    print(\"Data collection interrupted.\")\n",
    "except Exception as e:\n",
    "    print(f\"An error occurred: {e}\")\n",
    "\n",
    "# Save data to CSV\n",
    "if data:\n",
    "    save_to_csv(data, class_label)\n",
    "    print(\"Data saved to CSV.\")\n",
    "else:\n",
    "    print(\"No data collected.\")\n",
    "\n",
    "ser.close()"
   ]
  }
 ],
 "metadata": {
  "kernelspec": {
   "display_name": "Python 3",
   "language": "python",
   "name": "python3"
  },
  "language_info": {
   "codemirror_mode": {
    "name": "ipython",
    "version": 3
   },
   "file_extension": ".py",
   "mimetype": "text/x-python",
   "name": "python",
   "nbconvert_exporter": "python",
   "pygments_lexer": "ipython3",
   "version": "3.12.2"
  }
 },
 "nbformat": 4,
 "nbformat_minor": 5
}
