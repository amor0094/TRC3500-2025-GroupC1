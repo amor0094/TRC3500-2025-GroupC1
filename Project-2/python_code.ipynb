{
 "cells": [
  {
   "cell_type": "code",
   "execution_count": 1,
   "id": "25ae5c63",
   "metadata": {},
   "outputs": [],
   "source": [
    "import numpy as np\n",
    "import pandas as pd\n",
    "import serial"
   ]
  },
  {
   "cell_type": "code",
   "execution_count": 2,
   "id": "8a4d378c",
   "metadata": {},
   "outputs": [],
   "source": [
    "# Format: Object-Distance-Height\n",
    "class_names = [\"Coin-10cm-10cm\", \"Coin-10cm-30cm\", \"Coin-30cm-10cm\", \"Coin-30cm-30cm\"\n",
    "               \"Eraser-10cm-10cm\", \"Eraser-10cm-30cm\", \"Eraser-30cm-10cm\", \"Eraser-30cm-30cm\"]"
   ]
  },
  {
   "cell_type": "markdown",
   "id": "c880432a",
   "metadata": {},
   "source": [
    "# Data Collection\n",
    "Modify # Parameters"
   ]
  },
  {
   "cell_type": "code",
   "execution_count": null,
   "id": "176329e8",
   "metadata": {},
   "outputs": [
    {
     "ename": "SerialException",
     "evalue": "could not open port 'COM5': FileNotFoundError(2, 'The system cannot find the file specified.', None, 2)",
     "output_type": "error",
     "traceback": [
      "\u001b[31m---------------------------------------------------------------------------\u001b[39m",
      "\u001b[31mSerialException\u001b[39m                           Traceback (most recent call last)",
      "\u001b[36mCell\u001b[39m\u001b[36m \u001b[39m\u001b[32mIn[3]\u001b[39m\u001b[32m, line 2\u001b[39m\n\u001b[32m      1\u001b[39m \u001b[38;5;66;03m# Using serial to read data from a serial port - using correct port\u001b[39;00m\n\u001b[32m----> \u001b[39m\u001b[32m2\u001b[39m ser = \u001b[43mserial\u001b[49m\u001b[43m.\u001b[49m\u001b[43mSerial\u001b[49m\u001b[43m(\u001b[49m\u001b[43mport\u001b[49m\u001b[43m=\u001b[49m\u001b[33;43m\"\u001b[39;49m\u001b[33;43mCOM5\u001b[39;49m\u001b[33;43m\"\u001b[39;49m\u001b[43m,\u001b[49m\u001b[43m \u001b[49m\u001b[43mbaudrate\u001b[49m\u001b[43m=\u001b[49m\u001b[32;43m230400\u001b[39;49m\u001b[43m,\u001b[49m\u001b[43m \u001b[49m\u001b[43mtimeout\u001b[49m\u001b[43m=\u001b[49m\u001b[32;43m1\u001b[39;49m\u001b[43m)\u001b[49m \n\u001b[32m      3\u001b[39m ser.flush()  \u001b[38;5;66;03m# Flush the serial buffer\u001b[39;00m\n\u001b[32m      5\u001b[39m \u001b[38;5;66;03m# Function to read ADC value from the serial port\u001b[39;00m\n",
      "\u001b[36mFile \u001b[39m\u001b[32mc:\\Users\\Admin\\AppData\\Local\\Programs\\Python\\Python312\\Lib\\site-packages\\serial\\serialwin32.py:33\u001b[39m, in \u001b[36mSerial.__init__\u001b[39m\u001b[34m(self, *args, **kwargs)\u001b[39m\n\u001b[32m     31\u001b[39m \u001b[38;5;28mself\u001b[39m._overlapped_read = \u001b[38;5;28;01mNone\u001b[39;00m\n\u001b[32m     32\u001b[39m \u001b[38;5;28mself\u001b[39m._overlapped_write = \u001b[38;5;28;01mNone\u001b[39;00m\n\u001b[32m---> \u001b[39m\u001b[32m33\u001b[39m \u001b[38;5;28;43msuper\u001b[39;49m\u001b[43m(\u001b[49m\u001b[43mSerial\u001b[49m\u001b[43m,\u001b[49m\u001b[43m \u001b[49m\u001b[38;5;28;43mself\u001b[39;49m\u001b[43m)\u001b[49m\u001b[43m.\u001b[49m\u001b[34;43m__init__\u001b[39;49m\u001b[43m(\u001b[49m\u001b[43m*\u001b[49m\u001b[43margs\u001b[49m\u001b[43m,\u001b[49m\u001b[43m \u001b[49m\u001b[43m*\u001b[49m\u001b[43m*\u001b[49m\u001b[43mkwargs\u001b[49m\u001b[43m)\u001b[49m\n",
      "\u001b[36mFile \u001b[39m\u001b[32mc:\\Users\\Admin\\AppData\\Local\\Programs\\Python\\Python312\\Lib\\site-packages\\serial\\serialutil.py:244\u001b[39m, in \u001b[36mSerialBase.__init__\u001b[39m\u001b[34m(self, port, baudrate, bytesize, parity, stopbits, timeout, xonxoff, rtscts, write_timeout, dsrdtr, inter_byte_timeout, exclusive, **kwargs)\u001b[39m\n\u001b[32m    241\u001b[39m     \u001b[38;5;28;01mraise\u001b[39;00m \u001b[38;5;167;01mValueError\u001b[39;00m(\u001b[33m'\u001b[39m\u001b[33munexpected keyword arguments: \u001b[39m\u001b[38;5;132;01m{!r}\u001b[39;00m\u001b[33m'\u001b[39m.format(kwargs))\n\u001b[32m    243\u001b[39m \u001b[38;5;28;01mif\u001b[39;00m port \u001b[38;5;129;01mis\u001b[39;00m \u001b[38;5;129;01mnot\u001b[39;00m \u001b[38;5;28;01mNone\u001b[39;00m:\n\u001b[32m--> \u001b[39m\u001b[32m244\u001b[39m     \u001b[38;5;28;43mself\u001b[39;49m\u001b[43m.\u001b[49m\u001b[43mopen\u001b[49m\u001b[43m(\u001b[49m\u001b[43m)\u001b[49m\n",
      "\u001b[36mFile \u001b[39m\u001b[32mc:\\Users\\Admin\\AppData\\Local\\Programs\\Python\\Python312\\Lib\\site-packages\\serial\\serialwin32.py:64\u001b[39m, in \u001b[36mSerial.open\u001b[39m\u001b[34m(self)\u001b[39m\n\u001b[32m     62\u001b[39m \u001b[38;5;28;01mif\u001b[39;00m \u001b[38;5;28mself\u001b[39m._port_handle == win32.INVALID_HANDLE_VALUE:\n\u001b[32m     63\u001b[39m     \u001b[38;5;28mself\u001b[39m._port_handle = \u001b[38;5;28;01mNone\u001b[39;00m    \u001b[38;5;66;03m# 'cause __del__ is called anyway\u001b[39;00m\n\u001b[32m---> \u001b[39m\u001b[32m64\u001b[39m     \u001b[38;5;28;01mraise\u001b[39;00m SerialException(\u001b[33m\"\u001b[39m\u001b[33mcould not open port \u001b[39m\u001b[38;5;132;01m{!r}\u001b[39;00m\u001b[33m: \u001b[39m\u001b[38;5;132;01m{!r}\u001b[39;00m\u001b[33m\"\u001b[39m.format(\u001b[38;5;28mself\u001b[39m.portstr, ctypes.WinError()))\n\u001b[32m     66\u001b[39m \u001b[38;5;28;01mtry\u001b[39;00m:\n\u001b[32m     67\u001b[39m     \u001b[38;5;28mself\u001b[39m._overlapped_read = win32.OVERLAPPED()\n",
      "\u001b[31mSerialException\u001b[39m: could not open port 'COM5': FileNotFoundError(2, 'The system cannot find the file specified.', None, 2)"
     ]
    }
   ],
   "source": [
    "# Using serial to read data from a serial port - using correct port\n",
    "ser = serial.Serial(port=\"COM5\", baudrate=230400, timeout=1) \n",
    "ser.flush()  # Flush the serial buffer\n",
    "\n",
    "# Function to read ADC value from the serial port\n",
    "def read_adc_value():\n",
    "    try:\n",
    "        if ser.in_waiting > 0:\n",
    "            line = ser.readline().decode('utf-8').strip()\n",
    "            return int(line)\n",
    "    except ValueError:\n",
    "        pass\n",
    "    return None\n",
    "\n",
    "# Function to save data to a CSV file\n",
    "def save_to_csv(data, label, filename=\"data.csv\"):\n",
    "    df = pd.DataFrame(data, columns=[\"data\" + str(i + 1) for i in range(len(data[0]))])\n",
    "    df.insert(0, \"label\", label)  # Add the label column at the beginning\n",
    "    df.to_csv(filename, index=False)\n",
    "\n",
    "# Parameters\n",
    "adc_threshold = 500\n",
    "num_items_to_collect = 100  # Number of items to collect\n",
    "class_label = class_names.index(\"Coin-10cm-10cm\")\n",
    "\n",
    "# Data collection\n",
    "data = []\n",
    "\n",
    "try:\n",
    "    print(\"Data collection started...\")\n",
    "    while len(data) < num_items_to_collect:\n",
    "        adc_value = read_adc_value()\n",
    "        if adc_value is not None and adc_value > adc_threshold:\n",
    "            # Collect data\n",
    "            data.append([adc_value])  # Store ADC values as rows\n",
    "    print(\"Data collection completed.\")\n",
    "except KeyboardInterrupt:\n",
    "    print(\"Data collection interrupted.\")\n",
    "except Exception as e:\n",
    "    print(f\"An error occurred: {e}\")\n",
    "\n",
    "# Save data to CSV\n",
    "if data:\n",
    "    save_to_csv(data, class_label)\n",
    "    print(\"Data saved to CSV.\")\n",
    "else:\n",
    "    print(\"No data collected.\")\n"
   ]
  }
 ],
 "metadata": {
  "kernelspec": {
   "display_name": "Python 3",
   "language": "python",
   "name": "python3"
  },
  "language_info": {
   "codemirror_mode": {
    "name": "ipython",
    "version": 3
   },
   "file_extension": ".py",
   "mimetype": "text/x-python",
   "name": "python",
   "nbconvert_exporter": "python",
   "pygments_lexer": "ipython3",
   "version": "3.12.2"
  }
 },
 "nbformat": 4,
 "nbformat_minor": 5
}
